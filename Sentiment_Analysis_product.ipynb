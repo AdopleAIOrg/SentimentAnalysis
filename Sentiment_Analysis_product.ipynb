{
  "nbformat": 4,
  "nbformat_minor": 0,
  "metadata": {
    "colab": {
      "provenance": [],
      "authorship_tag": "ABX9TyNuoq0U4bpWMS6wzjdUjKnK",
      "include_colab_link": true
    },
    "kernelspec": {
      "name": "python3",
      "display_name": "Python 3"
    },
    "language_info": {
      "name": "python"
    }
  },
  "cells": [
    {
      "cell_type": "markdown",
      "metadata": {
        "id": "view-in-github",
        "colab_type": "text"
      },
      "source": [
        "<a href=\"https://colab.research.google.com/github/AdopleAIOrg/SentimentAnalysis/blob/main/Sentiment_Analysis_product.ipynb\" target=\"_parent\"><img src=\"https://colab.research.google.com/assets/colab-badge.svg\" alt=\"Open In Colab\"/></a>"
      ]
    },
    {
      "cell_type": "code",
      "execution_count": null,
      "metadata": {
        "id": "afUdRLyJWEBv"
      },
      "outputs": [],
      "source": [
        "!pip install -r /content/requirements.txt"
      ]
    },
    {
      "cell_type": "code",
      "source": [
        "%%writefile app.py\n",
        "import streamlit as st\n",
        "from transformers import pipeline\n",
        "import pandas as pd\n",
        "import nltk\n",
        "from nltk.tokenize import sent_tokenize\n",
        "\n",
        "nltk.download('punkt')\n",
        "\n",
        "class SentimentAnalysis:\n",
        "  def __init__(self):\n",
        "   self.classifier = pipeline(\"zero-shot-classification\", model=\"facebook/bart-large-mnli\")\n",
        "\n",
        "  def analyze_sentiment(self,text_input):\n",
        "\n",
        "    sentences = sent_tokenize(text_input)\n",
        "\n",
        "    # Initialize an empty list to store the results\n",
        "    results = []\n",
        "\n",
        "    # Open a new file for writing the results\n",
        "    for sequence_to_classify in sentences:\n",
        "        candidate_labels = ['positive', 'negative', 'neutral']\n",
        "        result = self.classifier(sequence_to_classify, candidate_labels)\n",
        "        result_dict = {\"Sentence\": sequence_to_classify, \"Label\": result['labels'][0], \"Score\": result['scores'][0]}\n",
        "        results.append(result_dict)\n",
        "        return results\n",
        "\n",
        "  def show_result(self,results):\n",
        "\n",
        "    # Create a Pandas DataFrame from the results\n",
        "    df = pd.DataFrame(results)\n",
        "    # Display the DataFrame in a table using Streamlit\n",
        "    st.table(df)\n",
        "\n",
        "  def streamlit_interface(self):\n",
        "\n",
        "    st.title(\"Sentiment Analysis\")\n",
        "    text_input = st.text_area(\"Enter The Paragraph\")\n",
        "    return text_input\n",
        "\n",
        "if __name__ == \"__main__\":\n",
        "\n",
        "  sent_analysis = SentimentAnalysis()\n",
        "  text_input = sent_analysis.streamlit_interface()\n",
        "  results = sent_analysis.analyze_sentiment(text_input)\n",
        "  sent_analysis.show_result(results)"
      ],
      "metadata": {
        "id": "sPW5DBOjXYuY"
      },
      "execution_count": null,
      "outputs": []
    },
    {
      "cell_type": "code",
      "source": [
        "!streamlit run app.py & npx localtunnel --port 8501"
      ],
      "metadata": {
        "id": "rq9etMljY9oW"
      },
      "execution_count": null,
      "outputs": []
    }
  ]
}